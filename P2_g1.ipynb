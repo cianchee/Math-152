{
  "nbformat": 4,
  "nbformat_minor": 0,
  "metadata": {
    "colab": {
      "provenance": [],
      "include_colab_link": true
    },
    "kernelspec": {
      "name": "python3",
      "display_name": "Python 3"
    },
    "language_info": {
      "name": "python"
    }
  },
  "cells": [
    {
      "cell_type": "markdown",
      "metadata": {
        "id": "view-in-github",
        "colab_type": "text"
      },
      "source": [
        "<a href=\"https://colab.research.google.com/github/cianchee/Math-152/blob/main/P2_g1.ipynb\" target=\"_parent\"><img src=\"https://colab.research.google.com/assets/colab-badge.svg\" alt=\"Open In Colab\"/></a>"
      ]
    },
    {
      "cell_type": "markdown",
      "source": [
        "# Present by Group Don't Mess With Us: \n",
        "## BAXI Siddharth, CHEE Cian, COCHRAN Victoria, WILBY Daniel, YANG Bo\n",
        "### Our Exploration of Random Walk\n",
        "\n",
        "Mathematically, we can prove that in 1 dimension or 2 dimensions, with a equal probability to go any direction, it will eventually return to the origin. But in 3 dimensions, the probability is less than $\\frac{\\sqrt3}{\\frac{2}{3}π^{\\frac{3}{2}}}\\frac{1}{n^{\\frac{3}{2}}}$ where n is the total steps (by using properties in Markov chains and Stirling's formula, but will not be shown here for simplicity). But we didn't observe the distance to the origin is around $\\sqrt N$ after $N$ steps. Or maybe greater $N$ should be tested. We've tried multiple variants, and how each variant is tested will be explained below."
      ],
      "metadata": {
        "id": "KaqrO5i_wJki"
      }
    },
    {
      "cell_type": "markdown",
      "source": [
        "### 1st Variant"
      ],
      "metadata": {
        "id": "mu51JgB3xI2r"
      }
    },
    {
      "cell_type": "code",
      "execution_count": null,
      "metadata": {
        "id": "YUSYlW63PpLH",
        "colab": {
          "base_uri": "https://localhost:8080/",
          "height": 320
        },
        "outputId": "db524d1e-baf5-438b-956a-1f5e86d94f42"
      },
      "outputs": [
        {
          "output_type": "display_data",
          "data": {
            "text/plain": [
              "<Figure size 432x288 with 1 Axes>"
            ],
            "image/png": "[encoded data removed]"
          },
          "metadata": {
            "needs_background": "light"
          }
        },
        {
          "output_type": "stream",
          "name": "stdout",
          "text": [
            "Max distance away from origin acheived:  42.579337712087536\n",
            "Projected distance from origin after 100 steps (sqrt(num steps)):  10.0\n",
            "Distance away from origin after 100 steps:  42.579337712087536\n"
          ]
        }
      ],
      "source": [
        "#1\n",
        "import random;\n",
        "import numpy as np;\n",
        "import matplotlib.pyplot as plt\n",
        "from matplotlib.path import Path\n",
        "import matplotlib.patches as patches\n",
        "\n",
        "# returns random 2d offset\n",
        "def rand_dir():\n",
        "  d = random.randrange(4);\n",
        "  if d == 0:\n",
        "    return np.array([1, 0])\n",
        "  if d == 1:\n",
        "    return np.array([-1, 0])\n",
        "  if d == 2:\n",
        "    return np.array([0, 1])\n",
        "  return np.array([0, -1])\n",
        "\n",
        "# L2 norm\n",
        "def distance(x):\n",
        "  return ((x[0])**2 + (x[1])**2)**(1/2);\n",
        "\n",
        "# simulate walk in N steps\n",
        "# returns the positions and related values\n",
        "def walk(N):\n",
        "  max_distance = 0.0;\n",
        "  min_x = 0.0;\n",
        "  max_x = 0.0;\n",
        "  min_y = 0.0;\n",
        "  max_y = 0.0;\n",
        "\n",
        "  p = np.zeros((N, 2));\n",
        "  for i in range(N):\n",
        "    dir = rand_dir();\n",
        "    if i == 0:\n",
        "      p[i] = [ 0, 0 ];\n",
        "    else:\n",
        "      while True:\n",
        "        if (p[i][1] == 0 and dir[1] < 0): #or (p[i][0] == 0 and dir[0] < 0):\n",
        "          dir = rand_dir();\n",
        "        else:\n",
        "          break\n",
        "      p[i][0] = p[i - 1][0] + dir[0];\n",
        "      p[i][1] = p[i - 1][1] + dir[1];\n",
        "    dist = distance(p[i]);\n",
        "    \n",
        "    max_distance = max(max_distance, dist);\n",
        "    min_x = min(p[i][0], min_x);\n",
        "    max_x = max(p[i][0], max_x);\n",
        "    min_y = min(p[i][1], min_y);\n",
        "    max_y = max(p[i][1], max_y);\n",
        "  #print(p)\n",
        "  return (p, max_distance, min_x, max_x, min_y, max_y);\n",
        "\n",
        "# Actually calculate the walk here\n",
        "N = 100\n",
        "(positions, max_distance, min_x, max_x, min_y, max_y) = walk(N);\n",
        "\n",
        "# create path object to be used by graph\n",
        "path = Path(positions);\n",
        "\n",
        "# padding on graph\n",
        "edge_offset = 0.5;\n",
        "\n",
        "# create the plot\n",
        "fig, ax = plt.subplots()\n",
        "# plot the walk using a path\n",
        "patch = patches.PathPatch(path, facecolor='none', lw=2)\n",
        "ax.add_patch(patch)\n",
        "# set graph bounds\n",
        "ax.set_xlim(min_x - edge_offset, max_x + edge_offset)\n",
        "ax.set_ylim(min_y - edge_offset, max_y + edge_offset)\n",
        "\n",
        "# add start and end markers\n",
        "# blue is start, red is end\n",
        "plt.plot(positions[0][0], positions[0][1], marker=\"o\", markersize=10, markerfacecolor=\"blue\")\n",
        "plt.plot(positions[-1][0], positions[-1][1], marker=\"o\", markersize=10, markerfacecolor=\"red\")\n",
        "\n",
        "plt.grid();\n",
        "plt.show()\n",
        "\n",
        "print(\"Max distance away from origin acheived: \", max_distance);\n",
        "print(\"Projected distance from origin after\", N, \"steps (sqrt(num steps)): \", N**(1/2))\n",
        "print(\"Distance away from origin after\", N, \"steps: \", distance(positions[-1]))"
      ]
    },
    {
      "cell_type": "markdown",
      "source": [
        "### 3rd Variant\n",
        "### 3rd Variant\n",
        "To see how the endpoints are distributed and whether it returns to the origin, we need a scatter plot and a histogram. The scatter plot is used to present the endpoint of multiple trials, and the histogram is used to see if a value is reached many times. And since the movement would just be up and down, I didn't plot a PIL to show how it goes. By observation, with the help of gravity, the endpoints are more frequently located around 0. The histogram shows it returned to the origin thousands of times, and 1 is the value most returned. I believe it's because when it's 0, it always bounces back to 1, and gravity also helps the value drop to 1. In addition, the gravity makes the distance between the endpoints and the origin smaller than predicted."
      ],
      "metadata": {
        "id": "a0Q2KlEkw9M4"
      }
    },
    {
      "cell_type": "code",
      "source": [
        "#3\n",
        "import numpy as np\n",
        "import matplotlib.pyplot as plt\n",
        "\n",
        "def lift(n): # The function used to output the places of each step walk, n = n steps\n",
        "    height_history = [0] # List used to store the height after each step\n",
        "    height = 0\n",
        "    for i in range(n):\n",
        "        step = np.random.choice([-1,-1,-1,-1,-1,-1,1,1,1,1,1]) # Modify the probability. A very inefficient way I know...\n",
        "        if height == 0: # Hits 0 and bounces back\n",
        "            height += 1\n",
        "        else:\n",
        "            height = height + step\n",
        "        height_history.append(height)\n",
        "    return height_history\n",
        "\n",
        "def endpoint(n): # The function which returns the endpoint after n steps\n",
        "    height = 0\n",
        "    for i in range(n):\n",
        "        step = np.random.choice([-1,-1,-1,-1,-1,-1,1,1,1,1,1])\n",
        "        if height == 0: \n",
        "            height += 1\n",
        "        else:\n",
        "            height = height + step\n",
        "    return height\n",
        "\n",
        "def endpoint_trajectory(n): # Draw a graph of endpoints distribution after n trials\n",
        "    y_axis = []\n",
        "    for i in range(n):\n",
        "        y_axis.append(endpoint(1000))\n",
        "    x_axis = np.linspace(1,n,n)\n",
        "    plt.title(\"Endpoint distribution\")\n",
        "    plt.xlabel(\"Trials\")\n",
        "    plt.ylabel(\"Endpoints\")\n",
        "    plt.scatter(x_axis,y_axis)\n",
        "    plt.show()\n",
        "    \n",
        "\n",
        "def heights(n): # See how many times a place has been reached in n steps\n",
        "    heights = lift(n)\n",
        "    plt.hist(heights,bins=len(set(heights)))\n",
        "    plt.xlabel(\"Heights\")\n",
        "    plt.ylabel(\"Times stayed on the height\")\n",
        "    plt.show()\n",
        "\n",
        "endpoint_trajectory(1000)\n",
        "heights(100000)"
      ],
      "metadata": {
        "id": "LtY7vuXzS9Lo",
        "colab": {
          "base_uri": "https://localhost:8080/",
          "height": 557
        },
        "outputId": "21fe4a93-9fdd-433b-95bb-b20347b862ab"
      },
      "execution_count": null,
      "outputs": [
        {
          "output_type": "display_data",
          "data": {
            "text/plain": [
              "<Figure size 432x288 with 1 Axes>"
            ],
            "image/png": "[encoded data removed]"
          },
          "metadata": {
            "needs_background": "light"
          }
        },
        {
          "output_type": "display_data",
          "data": {
            "text/plain": [
              "<Figure size 432x288 with 1 Axes>"
            ],
            "image/png": "[encoded data removed]"
          },
          "metadata": {
            "needs_background": "light"
          }
        }
      ]
    },
    {
      "cell_type": "markdown",
      "source": [
        "### 4th Variant\n",
        "In this variant, I created a box that an object will walk in straight lines around. Each time the object walks into one of the edges of the box, it will bounce off and walk in another direction. "
      ],
      "metadata": {
        "id": "gzCA_op3aVSd"
      }
    },
    {
      "cell_type": "code",
      "source": [
        "from PIL import Image, ImageDraw\n",
        "import numpy as np"
      ],
      "metadata": {
        "id": "Kene1ovcaKaT"
      },
      "execution_count": null,
      "outputs": []
    },
    {
      "cell_type": "markdown",
      "source": [
        "I first set up a black background image. I chose to make the background a 400 by 300 black rectangle so we can see the whole image easily and so it is easy to differentiate between the background and the edges of the box. I also imported the ImageDraw function from PIL to be able to draw the box that the object will be walking in and to be able to draw lines that will show the pathways the object takes. For the first walk the object takes, I generated 2 random integers for x and y to be able to find the slope of the line that will be the direction the object goes until it hits an edge. I decided to first use a normal xy-plane to make calculating the points at the edges easier, and so the edges would be at x=0, x=300, y=0, and y=200. Then, if the intersection of the lines and edges fit the dimensions inside the box, an endpoint would be found for the path and the path would be drawn on the image. Since I used PIL, I had to adjust the points accordingly to fit the coordinate system of the image. I could then draw the lines recursively making the endpoints the new starting points for the next pathway. After running the code a few times, I found that usually the final point would be somewhere along the bottom or right edge of the image and almost never at the beginning location. I also found that most of the time the pathways would create somesort of pattern and create diamond shapes. "
      ],
      "metadata": {
        "id": "8dCXTB4bahXm"
      }
    },
    {
      "cell_type": "code",
      "source": [
        "walk_image = Image.new('RGB', (400, 300), (0, 0, 0))\n",
        "draw = ImageDraw.Draw(walk_image)\n",
        "draw.rectangle((50, 50, 350, 250), fill=(255, 255, 255), outline=(255,255,255))\n",
        "\n",
        "x = np.random.randint(1, 301)\n",
        "y = np.random.randint(1, 201)\n",
        "\n",
        "slope = y / x\n",
        "x_start = 0\n",
        "y_start = 0\n",
        "\n",
        "for i in range(100):\n",
        "  b = y_start - (slope * x_start)\n",
        "  left_edge_x = 0\n",
        "  left_edge_y = b\n",
        "  right_edge_x = 300\n",
        "  right_edge_y = (slope * right_edge_x) + b\n",
        "  bottom_edge_y = 0\n",
        "  bottom_edge_x = (b * (-1)) / slope\n",
        "  top_edge_y = 200\n",
        "  top_edge_x = (200 - b) / slope\n",
        "\n",
        "\n",
        "  if (left_edge_y != y_start) and (left_edge_y > 0) and (left_edge_y < 200):\n",
        "    endpoint_x = 0\n",
        "    endpoint_y = left_edge_y\n",
        "    slope = 0 - slope\n",
        "  elif (right_edge_y != y_start) and (right_edge_y > 0) and (right_edge_y < 200):\n",
        "    endpoint_x = 300\n",
        "    endpoint_y = right_edge_y\n",
        "    slope = 0 - slope\n",
        "  elif (bottom_edge_x != x_start) and (bottom_edge_x > 0) and (bottom_edge_x < 300):\n",
        "    endpoint_x = bottom_edge_x\n",
        "    endpoint_y = 0\n",
        "    slope = 0 - slope\n",
        "  elif (top_edge_x != x_start) and (top_edge_x > 0) and (top_edge_x < 300):\n",
        "    endpoint_x = top_edge_x\n",
        "    endpoint_y = 200\n",
        "    slope = 0 - slope\n",
        "  elif right_edge_y == 200:\n",
        "    endpoint_x = 300\n",
        "    endpoint_y = 200\n",
        "    slope = 1\n",
        "  elif bottom_edge_x == 0:\n",
        "    endpoint_x = 0\n",
        "    endpoint_y = 0\n",
        "    slope = 1\n",
        "  elif left_edge_y == 200:\n",
        "    endpoint_x = 0\n",
        "    endpoint_y = 200\n",
        "    slope = -1\n",
        "  elif bottom_edge_x == 300:\n",
        "    endpoint_x = 300\n",
        "    endpoint_y = 0\n",
        "    slope = -1\n",
        "\n",
        "\n",
        "  x_initial = 50 + x_start\n",
        "  y_initial = 250 - y_start \n",
        "  x_end = 50 + endpoint_x\n",
        "  y_end = 250 - endpoint_y \n",
        "  draw.line((x_initial, y_initial, x_end, y_end), fill=(0, 191, 255), width=1)\n",
        "  x_start = endpoint_x\n",
        "  y_start = endpoint_y\n",
        "\n",
        "print(x_end, y_end)\n",
        "\n",
        "walk_image.save('walk_image.png')\n",
        "display(walk_image)"
      ],
      "metadata": {
        "colab": {
          "base_uri": "https://localhost:8080/",
          "height": 335
        },
        "id": "i2DiR_NVai2J",
        "outputId": "2de809c3-33da-49d2-bbef-ac953042532e"
      },
      "execution_count": null,
      "outputs": [
        {
          "output_type": "stream",
          "name": "stdout",
          "text": [
            "233.94160583941616 250\n"
          ]
        },
        {
          "output_type": "display_data",
          "data": {
            "text/plain": [
              "<PIL.Image.Image image mode=RGB size=400x300 at 0x7FDBD9DD7D60>"
            ],
            "image/png": "[encoded data removed]"
          },
          "metadata": {}
        }
      ]
    },
    {
      "cell_type": "markdown",
      "source": [
        "### 5th variant\n",
        "For this variant, the two random walks follow a similar walk to the first one. However, the difference is that for every individual instance of a walk, a check to see if the two walks are in the same position determines if the walks will \"bounce\" off of each other. As we can see, the pattern becoems significantly less random, and the points find themselves getting further and further away from each other, with significantly less variation in the randomness of the walk. A bounce count shows how many times these points bounced off each other. after about 70% of the movements, we find that the points find themselves distant enough from each other and find it harder to bounce off of each other. This applies for lower walk counts and higher walk counts. I foudn it interesting that even a bounce may affect the trajectory of the random walks. I was expecting a more vertical split that was more normal than what I ended up getting."
      ],
      "metadata": {
        "id": "PVf4rjzS2RDZ"
      }
    },
    {
      "cell_type": "code",
      "source": [
        "#5\n",
        "#see #1 for explanation on most functions in this code.\n",
        "import random;\n",
        "import numpy as np;\n",
        "import matplotlib.pyplot as plt\n",
        "from matplotlib.path import Path\n",
        "import matplotlib.patches as patches\n",
        "\n",
        "def rand_dir():\n",
        "  d = random.randrange(4);\n",
        "  if d == 0:\n",
        "    return np.array([1, 0])\n",
        "  if d == 1:\n",
        "    return np.array([-1, 0])\n",
        "  if d == 2:\n",
        "    return np.array([0, 1])\n",
        "  return np.array([0, -1])\n",
        "\n",
        "def distance(x):\n",
        "  return ((x[0])**2 + (x[1])**2)**(1/2);\n",
        "\n",
        "#checks if pos of random walk 1 is equal to the pos of random walk 2, if so they will bounce\n",
        "def checkAvailable(x,y):\n",
        "  if x == y:\n",
        "    return True\n",
        "  return False\n",
        "\n",
        "def walk(N):\n",
        "  max_distance = 0.0;\n",
        "  min_x = 0.0;\n",
        "  max_x = 0.0;\n",
        "  min_y = 0.0;\n",
        "  max_y = 0.0;\n",
        "  bounceCount = 0\n",
        "\n",
        "  p = np.zeros((N, 2));\n",
        "  for i in range(N):\n",
        "    dir = rand_dir();\n",
        "    if i == 0:\n",
        "      p[i] = [ 0, 0 ];\n",
        "    else:\n",
        "      while True:\n",
        "        if (p[i][1] == 0 and dir[1] < 0): #or (p[i][0] == 0 and dir[0] < 0):\n",
        "          dir = rand_dir();\n",
        "        else:\n",
        "          break\n",
        "      p[i][0] = p[i - 1][0] + dir[0];\n",
        "      p[i][1] = p[i - 1][1] + dir[1];\n",
        "      if checkAvailable(p[i][0],p[i][1]) == False:\n",
        "        #bounces if pos of both walks are the same\n",
        "        p[i][0] = p[i - 1][0] - dir[0];\n",
        "        p[i][1] = p[i - 1][1] - dir[1];\n",
        "        bounceCount += 1\n",
        "    dist = distance(p[i]);\n",
        "    \n",
        "    max_distance = max(max_distance, dist);\n",
        "    min_x = min(p[i][0], min_x);\n",
        "    max_x = max(p[i][0], max_x);\n",
        "    min_y = min(p[i][1], min_y);\n",
        "    max_y = max(p[i][1], max_y);\n",
        "  return (p, max_distance, min_x, max_x, min_y, max_y,bounceCount);\n",
        "\n",
        "N = 100\n",
        "(positions, max_distance, min_x, max_x, min_y, max_y,bounceCount) = walk(N);\n",
        "\n",
        "path = Path(positions);\n",
        "\n",
        "edge_offset = 0.5;\n",
        "\n",
        "fig, ax = plt.subplots()\n",
        "\n",
        "patch = patches.PathPatch(path, facecolor='none', lw=2)\n",
        "ax.add_patch(patch)\n",
        "\n",
        "ax.set_xlim(min_x - edge_offset, max_x + edge_offset)\n",
        "ax.set_ylim(min_y - edge_offset, max_y + edge_offset)\n",
        "\n",
        "\n",
        "plt.plot(positions[0][0], positions[0][1], marker=\"o\", markersize=10, markerfacecolor=\"blue\")\n",
        "plt.plot(positions[-1][0], positions[-1][1], marker=\"o\", markersize=10, markerfacecolor=\"red\")\n",
        "\n",
        "plt.grid();\n",
        "plt.show()\n",
        "\n",
        "print(\"bounce count:\" + str(bounceCount))"
      ],
      "metadata": {
        "id": "tJr4XBu5S9c9",
        "outputId": "47ee3ec0-de5d-4e3d-ffcd-962e1e6433ed",
        "colab": {
          "base_uri": "https://localhost:8080/",
          "height": 283
        }
      },
      "execution_count": 36,
      "outputs": [
        {
          "output_type": "display_data",
          "data": {
            "text/plain": [
              "<Figure size 432x288 with 1 Axes>"
            ],
            "image/png": "[encoded data removed]"
          },
          "metadata": {
            "needs_background": "light"
          }
        },
        {
          "output_type": "stream",
          "name": "stdout",
          "text": [
            "bounce count:63\n"
          ]
        }
      ]
    },
    {
      "cell_type": "code",
      "source": [],
      "metadata": {
        "id": "GCymN97g1SrY"
      },
      "execution_count": null,
      "outputs": []
    }
  ]
}